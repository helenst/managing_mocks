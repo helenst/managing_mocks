{
 "cells": [
  {
   "cell_type": "code",
   "execution_count": 3,
   "metadata": {
    "collapsed": false
   },
   "outputs": [],
   "source": [
    "from pytest import raises\n",
    "from unittest.mock import Mock, call, patch"
   ]
  },
  {
   "cell_type": "markdown",
   "metadata": {},
   "source": [
    "## Delay loop"
   ]
  },
  {
   "cell_type": "code",
   "execution_count": 4,
   "metadata": {
    "collapsed": false
   },
   "outputs": [],
   "source": [
    "class DatabaseError(Exception):\n",
    "    pass\n",
    "\n",
    "def retry_with_delay(func):\n",
    "    delay = 1\n",
    "    while True:\n",
    "        try:\n",
    "            return func()\n",
    "        except DatabaseError:\n",
    "            time.sleep(delay)\n",
    "            delay *= 2\n",
    "            \n",
    "@patch('time.sleep')\n",
    "def test_third_time_lucky(mock_sleep):\n",
    "    # Simulate two failures followed by success\n",
    "    mock_func = Mock(side_effect=[DatabaseError, DatabaseError, 'Yay'])\n",
    "\n",
    "    result = retry_with_delay(mock_func)\n",
    "\n",
    "    assert result == 'Yay'\n",
    "    assert mock_func.call_count == 3\n",
    "    \n",
    "    # mocking sleep ensures the test runs quickly\n",
    "    # while letting us check that it was called\n",
    "    mock_sleep.assert_has_calls([\n",
    "        call(1),\n",
    "        call(2),\n",
    "    ])\n",
    "\n",
    "test_third_time_lucky()"
   ]
  },
  {
   "cell_type": "markdown",
   "metadata": {},
   "source": [
    "## Mock the time"
   ]
  },
  {
   "cell_type": "code",
   "execution_count": 5,
   "metadata": {
    "collapsed": false
   },
   "outputs": [],
   "source": [
    "# This doesn't work because it's written in C.\n",
    "with raises(TypeError):\n",
    "    patch(\"datetime.date.today\").start()\n",
    "    # TypeError: can't set attributes of built-in/extension type 'datetime.date'"
   ]
  },
  {
   "cell_type": "code",
   "execution_count": 6,
   "metadata": {
    "collapsed": false
   },
   "outputs": [
    {
     "name": "stdout",
     "output_type": "stream",
     "text": [
      "<MagicMock name='date' id='140450565516704'>\n"
     ]
    }
   ],
   "source": [
    "# But you can mock the whole module.\n",
    "with patch('datetime.date') as mock_date:\n",
    "    print(mock_date)"
   ]
  },
  {
   "cell_type": "markdown",
   "metadata": {},
   "source": [
    "```python\n",
    "# file: birthday.py\n",
    "\n",
    "from datetime import date\n",
    "\n",
    "def its_my_birthday():\n",
    "    today = date.today()\n",
    "    return today.month == 3 and today.day == 19\n",
    "```"
   ]
  },
  {
   "cell_type": "code",
   "execution_count": 7,
   "metadata": {
    "collapsed": true
   },
   "outputs": [],
   "source": [
    "\n",
    "\n",
    "import birthday\n",
    "\n",
    "@patch('birthday.date')\n",
    "def test_birthday_3(mock_date):\n",
    "    mock_date.today.return_value = date(2015, 3, 19)\n",
    "\n",
    "    assert birthday.its_my_birthday()"
   ]
  },
  {
   "cell_type": "markdown",
   "metadata": {},
   "source": [
    "### Freezegun"
   ]
  },
  {
   "cell_type": "code",
   "execution_count": 8,
   "metadata": {
    "collapsed": false
   },
   "outputs": [],
   "source": [
    "# Even better: use freezegun (pip install freezegun)\n",
    "from freezegun import freeze_time\n",
    "\n",
    "@freeze_time('2015-03-19')\n",
    "def test_birthday_4():\n",
    "    assert birthday.its_my_birthday()"
   ]
  },
  {
   "cell_type": "markdown",
   "metadata": {},
   "source": [
    "## Mock the filesystem"
   ]
  },
  {
   "cell_type": "code",
   "execution_count": 9,
   "metadata": {
    "collapsed": false
   },
   "outputs": [],
   "source": [
    "from unittest.mock import mock_open\n",
    "\n",
    "open_mock = mock_open(\n",
    "    read_data='look at all my file contents'\n",
    ")\n",
    "\n",
    "with patch('__main__.open', open_mock, create=True):\n",
    "    with open('myfile') as file:\n",
    "        # You can read, but the file handle is not iterable.\n",
    "        assert file.read() == 'look at all my file contents'"
   ]
  },
  {
   "cell_type": "markdown",
   "metadata": {},
   "source": [
    "It's nice when we can read a file like this:\n",
    "\n",
    "```python\n",
    "with open('myfile') as myfile:\n",
    "    for line in myfile:\n",
    "        print(line)\n",
    "```  "
   ]
  },
  {
   "cell_type": "code",
   "execution_count": 10,
   "metadata": {
    "collapsed": false
   },
   "outputs": [
    {
     "name": "stdout",
     "output_type": "stream",
     "text": [
      "line one\n",
      "line two\n"
     ]
    }
   ],
   "source": [
    "\n",
    "# We need to set up the magic methods to accomplish this.\n",
    "with patch('__main__.open', mock_open(), create=True) as open_mock:\n",
    "    mock_file = open_mock.return_value.__enter__.return_value\n",
    "    mock_file.__iter__.return_value = ([\n",
    "        'line one', 'line two'\n",
    "    ])\n",
    "\n",
    "    with open('myfile') as file:\n",
    "       #assert list(file) == ['line one', 'line two']"
   ]
  },
  {
   "cell_type": "markdown",
   "metadata": {},
   "source": [
    "## Property mocks"
   ]
  },
  {
   "cell_type": "code",
   "execution_count": 17,
   "metadata": {
    "collapsed": false
   },
   "outputs": [],
   "source": [
    "from unittest.mock import PropertyMock\n",
    "from datetime import date\n",
    "\n",
    "class Person:\n",
    "    @property\n",
    "    def is_birthday(self):\n",
    "        today = date.today()\n",
    "        return self.dob.month == today.month and self.dob.day == today.day\n",
    "\n",
    "    @is_birthday.setter\n",
    "    def is_birthday(self, value):\n",
    "        pass\n",
    "    \n",
    "    def greet(self):\n",
    "        return 'Happy birthday!' if self.is_birthday else 'Good morning!'\n",
    "\n",
    "person = Person()"
   ]
  },
  {
   "cell_type": "markdown",
   "metadata": {},
   "source": [
    "Patching the object doesn't work.\n",
    "\n",
    "```python\n",
    "with patch.object(person, 'is_birthday', return_value=True):\n",
    "    assert person.greet() == 'Happy birthday!'\n",
    "...\n",
    "AttributeError: <__main__.Person object at 0x7f9875ea73c8> does not have the attribute 'is_birthday'\n",
    "```"
   ]
  },
  {
   "cell_type": "code",
   "execution_count": 19,
   "metadata": {
    "collapsed": true
   },
   "outputs": [],
   "source": [
    "with patch.object(Person, 'is_birthday', new_callable=PropertyMock, return_value=True):\n",
    "    assert person.greet() == 'Happy birthday!'"
   ]
  }
 ],
 "metadata": {
  "kernelspec": {
   "display_name": "Python 3",
   "language": "python",
   "name": "python3"
  },
  "language_info": {
   "codemirror_mode": {
    "name": "ipython",
    "version": 3
   },
   "file_extension": ".py",
   "mimetype": "text/x-python",
   "name": "python",
   "nbconvert_exporter": "python",
   "pygments_lexer": "ipython3",
   "version": "3.5.1"
  }
 },
 "nbformat": 4,
 "nbformat_minor": 0
}
