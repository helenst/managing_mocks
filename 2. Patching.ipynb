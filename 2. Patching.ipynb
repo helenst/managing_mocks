{
 "cells": [
  {
   "cell_type": "code",
   "execution_count": 12,
   "metadata": {
    "collapsed": true
   },
   "outputs": [],
   "source": [
    "from unittest.mock import Mock, patch\n",
    "from pytest import raises"
   ]
  },
  {
   "cell_type": "markdown",
   "metadata": {},
   "source": [
    "## patch.object\n",
    "\n",
    "If we're working directly with an object, we can use `patch.object`"
   ]
  },
  {
   "cell_type": "code",
   "execution_count": 25,
   "metadata": {
    "collapsed": false
   },
   "outputs": [
    {
     "name": "stdout",
     "output_type": "stream",
     "text": [
      "<MagicMock name='is_birthday' id='139676488238248'> True\n"
     ]
    }
   ],
   "source": [
    "class User:\n",
    "    def is_birthday(self):\n",
    "        pass\n",
    "        \n",
    "    def greet(self):\n",
    "        if self.is_birthday():\n",
    "            return 'happy birthday'\n",
    "        else:\n",
    "            return 'hello'\n",
    "\n",
    "user = User()\n",
    "with patch.object(user, 'is_birthday', return_value=True):\n",
    "    # user.is_birthday is a MagicMock that returns True\n",
    "    print(user.is_birthday, user.is_birthday())\n",
    "    # Check the outcome\n",
    "    assert user.greet() == 'happy birthday'"
   ]
  },
  {
   "cell_type": "markdown",
   "metadata": {},
   "source": [
    "However, we don't always have direct access to that object."
   ]
  },
  {
   "cell_type": "markdown",
   "metadata": {},
   "source": [
    "## patch"
   ]
  },
  {
   "cell_type": "code",
   "execution_count": 14,
   "metadata": {
    "collapsed": false
   },
   "outputs": [
    {
     "name": "stdout",
     "output_type": "stream",
     "text": [
      "<MagicMock name='get' id='139676488495680'>\n"
     ]
    }
   ],
   "source": [
    "import requests\n",
    "\n",
    "# a MagicMock is returned by the patched method\n",
    "with patch('requests.get'):\n",
    "    print(requests.get)"
   ]
  },
  {
   "cell_type": "code",
   "execution_count": 15,
   "metadata": {
    "collapsed": false
   },
   "outputs": [],
   "source": [
    "# Example of a function that might need patching\n",
    "import github3\n",
    "\n",
    "def get_followers(username):\n",
    "    api_client = github3.GitHub()\n",
    "    return api_client.user(username).followers"
   ]
  },
  {
   "cell_type": "markdown",
   "metadata": {},
   "source": [
    "### decorator"
   ]
  },
  {
   "cell_type": "code",
   "execution_count": 16,
   "metadata": {
    "collapsed": true
   },
   "outputs": [],
   "source": [
    "# Function decorator\n",
    "@patch('github3.GitHub')\n",
    "def test_get_followers(mockGitHub):\n",
    "    mockGitHub.return_value.user.return_value.followers = 20\n",
    "    assert get_followers('helenst') == 20\n",
    "    \n",
    "test_get_followers()  # succeeds"
   ]
  },
  {
   "cell_type": "code",
   "execution_count": 17,
   "metadata": {
    "collapsed": false
   },
   "outputs": [],
   "source": [
    "# Class decorator - if all your test methods want to mock the same thing\n",
    "@patch('github3.GitHub')\n",
    "class GitHubTest:\n",
    "    def test_get_followers(mockGitHub):\n",
    "        mockGitHub.return_value.user.return_value.followers = 20\n",
    "        assert get_followers('helenst') == 20  # succeeds\n",
    "    \n",
    "GitHubTest.test_get_followers()"
   ]
  },
  {
   "cell_type": "markdown",
   "metadata": {},
   "source": [
    "### context manager"
   ]
  },
  {
   "cell_type": "code",
   "execution_count": 18,
   "metadata": {
    "collapsed": true
   },
   "outputs": [],
   "source": [
    "with patch('github3.GitHub') as mockGitHub:\n",
    "    mockGitHub.return_value.user.return_value.followers = 20\n",
    "    assert get_followers('helenst') == 20"
   ]
  },
  {
   "cell_type": "markdown",
   "metadata": {},
   "source": [
    "### manual patch control"
   ]
  },
  {
   "cell_type": "code",
   "execution_count": 19,
   "metadata": {
    "collapsed": true
   },
   "outputs": [],
   "source": [
    "# Use start and stop for more control\n",
    "patcher = patch('github3.GitHub')\n",
    "mockGitHub = patcher.start()\n",
    "mockGitHub.return_value.user.return_value.followers = 20\n",
    "assert get_followers('helenst') == 20  # succeeds\n",
    "patcher.stop()"
   ]
  },
  {
   "cell_type": "markdown",
   "metadata": {},
   "source": [
    "## Where to patch?"
   ]
  },
  {
   "cell_type": "code",
   "execution_count": 20,
   "metadata": {
    "collapsed": false
   },
   "outputs": [],
   "source": [
    "## file: github_utils\n",
    "#\n",
    "# import github3\n",
    "#\n",
    "# def get_followers(username):\n",
    "#    api_client = github3.GitHub()\n",
    "#    return api_client.user(username).followers\n",
    "\n",
    "import github_utils\n",
    "\n",
    "with patch('github3.GitHub') as mockGitHub:\n",
    "    mockGitHub.return_value.user.return_value.followers = 200\n",
    "    assert github_utils.get_followers('helenst') == 200"
   ]
  },
  {
   "cell_type": "code",
   "execution_count": 21,
   "metadata": {
    "collapsed": false
   },
   "outputs": [],
   "source": [
    "## file: github_utils2\n",
    "#\n",
    "# from github3 import GitHub\n",
    "#\n",
    "# def get_followers(username):\n",
    "#    api_client = GitHub()\n",
    "#    return api_client.user(username).followers\n",
    "\n",
    "import github_utils2\n",
    "    \n",
    "with patch('github3.GitHub') as mockGitHub:\n",
    "    mockGitHub.return_value.user.return_value.followers = 200\n",
    "    \n",
    "    with raises(AssertionError):\n",
    "        assert github_utils2.get_followers('helenst') == 200"
   ]
  },
  {
   "cell_type": "code",
   "execution_count": 22,
   "metadata": {
    "collapsed": false
   },
   "outputs": [],
   "source": [
    "import github_utils2\n",
    "\n",
    "# \"ensure that you patch the name used by the system under test\" - the python docs\n",
    "with patch('github_utils2.GitHub') as mockGitHub:\n",
    "    mockGitHub.return_value.user.return_value.followers = 200\n",
    "    assert github_utils2.get_followers('helenst') == 200"
   ]
  }
 ],
 "metadata": {
  "kernelspec": {
   "display_name": "Python 3",
   "language": "python",
   "name": "python3"
  },
  "language_info": {
   "codemirror_mode": {
    "name": "ipython",
    "version": 3
   },
   "file_extension": ".py",
   "mimetype": "text/x-python",
   "name": "python",
   "nbconvert_exporter": "python",
   "pygments_lexer": "ipython3",
   "version": "3.5.1"
  }
 },
 "nbformat": 4,
 "nbformat_minor": 0
}
