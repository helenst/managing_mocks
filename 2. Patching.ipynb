{
 "cells": [
  {
   "cell_type": "code",
   "execution_count": 2,
   "metadata": {
    "collapsed": true
   },
   "outputs": [],
   "source": [
    "from unittest.mock import Mock, patch\n",
    "from pytest import raises"
   ]
  },
  {
   "cell_type": "markdown",
   "metadata": {},
   "source": [
    "## patch.object\n",
    "\n",
    "If we're working directly with an object, we can use `patch.object`"
   ]
  },
  {
   "cell_type": "code",
   "execution_count": 3,
   "metadata": {
    "collapsed": false
   },
   "outputs": [
    {
     "name": "stdout",
     "output_type": "stream",
     "text": [
      "<MagicMock name='is_birthday' id='140470077091736'> True\n"
     ]
    }
   ],
   "source": [
    "class User:\n",
    "    def is_birthday(self):\n",
    "        pass\n",
    "        \n",
    "    def greet(self):\n",
    "        if self.is_birthday():\n",
    "            return 'happy birthday'\n",
    "        else:\n",
    "            return 'hello'\n",
    "\n",
    "user = User()\n",
    "with patch.object(user, 'is_birthday', return_value=True):\n",
    "    # user.is_birthday is a MagicMock that returns True\n",
    "    print(user.is_birthday, user.is_birthday())\n",
    "    # Check the outcome\n",
    "    assert user.greet() == 'happy birthday'"
   ]
  },
  {
   "cell_type": "markdown",
   "metadata": {},
   "source": [
    "However, we don't always have direct access to that object."
   ]
  },
  {
   "cell_type": "markdown",
   "metadata": {},
   "source": [
    "## patch"
   ]
  },
  {
   "cell_type": "code",
   "execution_count": 4,
   "metadata": {
    "collapsed": false
   },
   "outputs": [
    {
     "name": "stdout",
     "output_type": "stream",
     "text": [
      "<MagicMock name='get' id='140470077090112'>\n"
     ]
    }
   ],
   "source": [
    "import requests\n",
    "\n",
    "# a MagicMock is returned by the patched method\n",
    "with patch('requests.get'):\n",
    "    print(requests.get)"
   ]
  },
  {
   "cell_type": "code",
   "execution_count": 5,
   "metadata": {
    "collapsed": false
   },
   "outputs": [
    {
     "name": "stdout",
     "output_type": "stream",
     "text": [
      "25\n"
     ]
    }
   ],
   "source": [
    "# Example of a function that might need patching\n",
    "import requests\n",
    "\n",
    "def get_followers(username):\n",
    "    response = requests.get('https://api.github.com/users/%s' % username)\n",
    "    return response.json()['followers']\n",
    "\n",
    "print(get_followers('helenst'))"
   ]
  },
  {
   "cell_type": "markdown",
   "metadata": {},
   "source": [
    "### decorator"
   ]
  },
  {
   "cell_type": "code",
   "execution_count": 20,
   "metadata": {
    "collapsed": false
   },
   "outputs": [],
   "source": [
    "# Function decorator\n",
    "@patch('requests.get')\n",
    "def test_get_followers(mock_get):\n",
    "    mock_get.return_value.json.return_value = {'followers': 100}\n",
    "    assert get_followers('somebody') == 100\n",
    "    \n",
    "test_get_followers()  # succeeds"
   ]
  },
  {
   "cell_type": "code",
   "execution_count": 7,
   "metadata": {
    "collapsed": false
   },
   "outputs": [],
   "source": [
    "# Class decorator - if all your test methods want to mock the same thing\n",
    "@patch('requests.get')\n",
    "class GitHubTest:\n",
    "    def test_get_followers(mock_get):\n",
    "        mock_get.return_value.json.return_value = {'followers': 100}\n",
    "        assert get_followers('somebody') == 100\n",
    "    \n",
    "GitHubTest.test_get_followers()"
   ]
  },
  {
   "cell_type": "markdown",
   "metadata": {},
   "source": [
    "### context manager"
   ]
  },
  {
   "cell_type": "code",
   "execution_count": 8,
   "metadata": {
    "collapsed": true
   },
   "outputs": [],
   "source": [
    "with patch('requests.get') as mock_get:\n",
    "    mock_get.return_value.json.return_value = {'followers': 100}\n",
    "    assert get_followers('somebody') == 100"
   ]
  },
  {
   "cell_type": "markdown",
   "metadata": {},
   "source": [
    "### manual patch control"
   ]
  },
  {
   "cell_type": "code",
   "execution_count": 9,
   "metadata": {
    "collapsed": true
   },
   "outputs": [],
   "source": [
    "# Use start and stop for more control\n",
    "patcher = patch('requests.get')\n",
    "mock_get = patcher.start()\n",
    "mock_get.return_value.json.return_value = {'followers': 100}\n",
    "assert get_followers('somebody') == 100\n",
    "patcher.stop()"
   ]
  },
  {
   "cell_type": "markdown",
   "metadata": {},
   "source": [
    "## Where to patch?\n",
    "\n",
    "```python\n",
    "## file: github_utils\n",
    "\n",
    "import requests\n",
    "\n",
    "def get_followers(username):\n",
    "   response = requests.get('https://api.github.com/users/%s' % username)\n",
    "   return response.json()['followers']\n",
    "\n",
    "```"
   ]
  },
  {
   "cell_type": "code",
   "execution_count": 15,
   "metadata": {
    "collapsed": false
   },
   "outputs": [],
   "source": [
    "import github_utils\n",
    "\n",
    "with patch('requests.get') as mock_get:\n",
    "    mock_get.return_value.json.return_value = {'followers': 100}\n",
    "    assert github_utils.get_followers('somebody') == 100  # succeeds"
   ]
  },
  {
   "cell_type": "markdown",
   "metadata": {},
   "source": [
    "Now with a slightly different module.\n",
    "\n",
    "```python\n",
    "# file: github_utils2\n",
    "\n",
    "from requests import get\n",
    "\n",
    "def get_followers(username):\n",
    "   response = get('https://api.github.com/users/%s' % username)\n",
    "   return response.json()['followers']\n",
    "```"
   ]
  },
  {
   "cell_type": "code",
   "execution_count": 16,
   "metadata": {
    "collapsed": false
   },
   "outputs": [],
   "source": [
    "import github_utils2\n",
    "    \n",
    "with patch('requests.get') as mock_get:\n",
    "    mock_get.return_value.json.return_value = {'followers': 100}\n",
    "    \n",
    "    with raises(AssertionError):\n",
    "        assert github_utils2.get_followers('somebody') == 100"
   ]
  },
  {
   "cell_type": "code",
   "execution_count": 14,
   "metadata": {
    "collapsed": false
   },
   "outputs": [],
   "source": [
    "import github_utils2\n",
    "\n",
    "# \"ensure that you patch the name used by the system under test\" - the python docs\n",
    "with patch('github_utils2.get') as mock_get:\n",
    "    mock_get.return_value.json.return_value = {'followers': 100}\n",
    "    assert github_utils2.get_followers('somebody') == 100  # succeeds"
   ]
  }
 ],
 "metadata": {
  "kernelspec": {
   "display_name": "Python 3",
   "language": "python",
   "name": "python3"
  },
  "language_info": {
   "codemirror_mode": {
    "name": "ipython",
    "version": 3
   },
   "file_extension": ".py",
   "mimetype": "text/x-python",
   "name": "python",
   "nbconvert_exporter": "python",
   "pygments_lexer": "ipython3",
   "version": "3.5.1"
  }
 },
 "nbformat": 4,
 "nbformat_minor": 0
}
