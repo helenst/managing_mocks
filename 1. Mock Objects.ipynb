{
 "cells": [
  {
   "cell_type": "markdown",
   "metadata": {},
   "source": [
    "These are objects that you'll inject into your tests and set up with the right values to simulate real parts of the system."
   ]
  },
  {
   "cell_type": "code",
   "execution_count": 1,
   "metadata": {
    "collapsed": true
   },
   "outputs": [],
   "source": [
    "from unittest.mock import Mock\n",
    "from pytest import raises"
   ]
  },
  {
   "cell_type": "code",
   "execution_count": 2,
   "metadata": {
    "collapsed": false
   },
   "outputs": [
    {
     "data": {
      "text/plain": [
       "'EuroPython'"
      ]
     },
     "execution_count": 2,
     "metadata": {},
     "output_type": "execute_result"
    }
   ],
   "source": [
    "# You can create a Mock object and set it up with values to retrieve later\n",
    "mock_talk = Mock(conference='EuroPython')\n",
    "mock_talk.conference"
   ]
  },
  {
   "cell_type": "code",
   "execution_count": 3,
   "metadata": {
    "collapsed": false
   },
   "outputs": [
    {
     "data": {
      "text/plain": [
       "<Mock name='mock.speaker' id='140497910462392'>"
      ]
     },
     "execution_count": 3,
     "metadata": {},
     "output_type": "execute_result"
    }
   ],
   "source": [
    "# All properties of a mock are also mocks\n",
    "mock_talk.speaker"
   ]
  },
  {
   "cell_type": "code",
   "execution_count": 4,
   "metadata": {
    "collapsed": false
   },
   "outputs": [
    {
     "data": {
      "text/plain": [
       "<Mock name='mock.speaker.name' id='140497910200808'>"
      ]
     },
     "execution_count": 4,
     "metadata": {},
     "output_type": "execute_result"
    }
   ],
   "source": [
    "# And so are their properties - it's mocks all the way down.\n",
    "mock_talk.speaker.name"
   ]
  },
  {
   "cell_type": "code",
   "execution_count": 5,
   "metadata": {
    "collapsed": false
   },
   "outputs": [
    {
     "data": {
      "text/plain": [
       "'Helen'"
      ]
     },
     "execution_count": 5,
     "metadata": {},
     "output_type": "execute_result"
    }
   ],
   "source": [
    "# Until you assign something else to them\n",
    "mock_talk.speaker.name = 'Helen'\n",
    "mock_talk.speaker.name"
   ]
  },
  {
   "cell_type": "code",
   "execution_count": 6,
   "metadata": {
    "collapsed": false
   },
   "outputs": [
    {
     "data": {
      "text/plain": [
       "<Mock name='mock.speaker.get_twitter_status()' id='140497910272128'>"
      ]
     },
     "execution_count": 6,
     "metadata": {},
     "output_type": "execute_result"
    }
   ],
   "source": [
    "# Mocks are callable, and still return a mock\n",
    "mock_talk.speaker.get_twitter_status()"
   ]
  },
  {
   "cell_type": "code",
   "execution_count": 7,
   "metadata": {
    "collapsed": false
   },
   "outputs": [
    {
     "data": {
      "text/plain": [
       "'Eating cheese'"
      ]
     },
     "execution_count": 7,
     "metadata": {},
     "output_type": "execute_result"
    }
   ],
   "source": [
    "# You can use return_value to tell it what to return\n",
    "mock_talk.speaker.get_twitter_status.return_value = 'Eating cheese'\n",
    "mock_talk.speaker.get_twitter_status()"
   ]
  },
  {
   "cell_type": "markdown",
   "metadata": {},
   "source": [
    "## Side effects\n",
    "\n",
    "Side effects define what happens when you call a mock."
   ]
  },
  {
   "cell_type": "code",
   "execution_count": 8,
   "metadata": {
    "collapsed": false
   },
   "outputs": [],
   "source": [
    "# A side effect can be an exception\n",
    "mock_func = Mock()\n",
    "mock_func.side_effect = KeyError\n",
    "\n",
    "with raises(KeyError):\n",
    "    mock_func()"
   ]
  },
  {
   "cell_type": "code",
   "execution_count": 9,
   "metadata": {
    "collapsed": false
   },
   "outputs": [
    {
     "data": {
      "text/plain": [
       "4"
      ]
     },
     "execution_count": 9,
     "metadata": {},
     "output_type": "execute_result"
    }
   ],
   "source": [
    "# Or a function\n",
    "mock_func.side_effect = lambda x: x*2\n",
    "mock_func(2)"
   ]
  },
  {
   "cell_type": "code",
   "execution_count": 10,
   "metadata": {
    "collapsed": false
   },
   "outputs": [
    {
     "data": {
      "text/plain": [
       "1"
      ]
     },
     "execution_count": 10,
     "metadata": {},
     "output_type": "execute_result"
    }
   ],
   "source": [
    "# It can be a list, so the mock will do a sequence of different things.\n",
    "# In the cases where there's just a value, that value is returned\n",
    "# (You can't have that as a single side effect though)\n",
    "mock_func.side_effect = [1, ValueError, 2]\n",
    "mock_func()"
   ]
  },
  {
   "cell_type": "code",
   "execution_count": 11,
   "metadata": {
    "collapsed": false
   },
   "outputs": [],
   "source": [
    "# The second call will give us an error\n",
    "with raises(ValueError):\n",
    "    mock_func()"
   ]
  },
  {
   "cell_type": "code",
   "execution_count": 12,
   "metadata": {
    "collapsed": false
   },
   "outputs": [
    {
     "data": {
      "text/plain": [
       "2"
      ]
     },
     "execution_count": 12,
     "metadata": {},
     "output_type": "execute_result"
    }
   ],
   "source": [
    "# Then we'll get the next value\n",
    "mock_func()"
   ]
  },
  {
   "cell_type": "code",
   "execution_count": 13,
   "metadata": {
    "collapsed": false
   },
   "outputs": [],
   "source": [
    "# Then it raises StopIteration because we ran out of side effects.\n",
    "with raises(StopIteration):\n",
    "    mock_func()"
   ]
  },
  {
   "cell_type": "markdown",
   "metadata": {},
   "source": [
    "## What was called?\n"
   ]
  },
  {
   "cell_type": "code",
   "execution_count": 14,
   "metadata": {
    "collapsed": false
   },
   "outputs": [
    {
     "data": {
      "text/plain": [
       "<Mock name='mock()' id='140497910317128'>"
      ]
     },
     "execution_count": 14,
     "metadata": {},
     "output_type": "execute_result"
    }
   ],
   "source": [
    "from unittest.mock import call\n",
    "mock_func = Mock()\n",
    "mock_func(1)\n",
    "mock_func(2)"
   ]
  },
  {
   "cell_type": "code",
   "execution_count": 15,
   "metadata": {
    "collapsed": true
   },
   "outputs": [],
   "source": [
    "mock_func.assert_called_with(2)\n",
    "mock_func.assert_has_calls([call(1), call(2)])\n",
    "# both of these succeed"
   ]
  },
  {
   "cell_type": "markdown",
   "metadata": {},
   "source": [
    "### Beware versions..."
   ]
  },
  {
   "cell_type": "code",
   "execution_count": 16,
   "metadata": {
    "collapsed": false
   },
   "outputs": [],
   "source": [
    "# In Python 3.5, this rightly raises an Assertion error,\n",
    "# since mock_func has been called.\n",
    "mock_func = Mock()\n",
    "mock_func()\n",
    "\n",
    "with raises(AssertionError):\n",
    "    mock_func.assert_not_called()\n",
    "\n"
   ]
  },
  {
   "cell_type": "markdown",
   "metadata": {},
   "source": [
    "In Python 3.4 assert_not_called does not exist so it returns another mock and silently succeeds\n",
    "\n",
    "```python\n",
    ">>> mock_func.assert_not_called()\n",
    "<Mock name='mock.assert_not_called()' id='139758629541536'>\n",
    "```"
   ]
  },
  {
   "cell_type": "code",
   "execution_count": 17,
   "metadata": {
    "collapsed": false
   },
   "outputs": [],
   "source": [
    "# assert_called comes in with Python 3.6\n",
    "# Python 3.5 added checks for invalid assert* or assret* calls\n",
    "# So you'll get an AttributeError\n",
    "mock_func = Mock()\n",
    "with raises(AttributeError):\n",
    "    mock_func.assert_called()"
   ]
  },
  {
   "cell_type": "markdown",
   "metadata": {},
   "source": [
    "### Matching args"
   ]
  },
  {
   "cell_type": "code",
   "execution_count": 18,
   "metadata": {
    "collapsed": true
   },
   "outputs": [],
   "source": [
    "# Use Mock.ANY if you don't care what the arg was\n",
    "from unittest.mock import Mock, ANY\n",
    "\n",
    "mock_func = Mock()\n",
    "mock_func(25)\n",
    "mock_func.assert_called_with(ANY)  # succeeds"
   ]
  },
  {
   "cell_type": "code",
   "execution_count": 19,
   "metadata": {
    "collapsed": false
   },
   "outputs": [],
   "source": [
    "# Use matcher objects for more control\n",
    "class MultipleMatcher:\n",
    "    def __init__(self, factor):\n",
    "        self.factor = factor\n",
    "\n",
    "    def __eq__(self, other):\n",
    "        return other % self.factor == 0\n",
    "\n",
    "    def __repr__(self):\n",
    "        return 'Multiple of {}'.format(self.factor)\n",
    "    \n",
    "mock_func.assert_called_with(MultipleMatcher(5))  # succeeds"
   ]
  },
  {
   "cell_type": "code",
   "execution_count": 20,
   "metadata": {
    "collapsed": false
   },
   "outputs": [],
   "source": [
    "with raises(AssertionError):\n",
    "    mock_func.assert_called_with(MultipleMatcher(4))"
   ]
  }
 ],
 "metadata": {
  "kernelspec": {
   "display_name": "Python 3",
   "language": "python",
   "name": "python3"
  },
  "language_info": {
   "codemirror_mode": {
    "name": "ipython",
    "version": 3
   },
   "file_extension": ".py",
   "mimetype": "text/x-python",
   "name": "python",
   "nbconvert_exporter": "python",
   "pygments_lexer": "ipython3",
   "version": "3.5.1"
  }
 },
 "nbformat": 4,
 "nbformat_minor": 0
}
